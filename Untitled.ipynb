{
 "cells": [
  {
   "cell_type": "code",
   "execution_count": 1,
   "id": "57929400-7070-424c-a63a-d0a00e3a8749",
   "metadata": {
    "tags": []
   },
   "outputs": [
    {
     "data": {
      "text/html": [
       "Current session configs: <tt>{'driverMemory': '1000M', 'executorCores': 2, 'kind': 'pyspark'}</tt><br>"
      ],
      "text/plain": [
       "<IPython.core.display.HTML object>"
      ]
     },
     "metadata": {},
     "output_type": "display_data"
    },
    {
     "data": {
      "text/html": [
       "No active sessions."
      ],
      "text/plain": [
       "<IPython.core.display.HTML object>"
      ]
     },
     "metadata": {},
     "output_type": "display_data"
    }
   ],
   "source": [
    "%%info"
   ]
  },
  {
   "cell_type": "code",
   "execution_count": 2,
   "id": "8de6a529-63ca-4488-8f62-666dd0c1f50c",
   "metadata": {
    "tags": []
   },
   "outputs": [
    {
     "name": "stdout",
     "output_type": "stream",
     "text": [
      "Starting Spark application\n"
     ]
    },
    {
     "data": {
      "text/html": [
       "<table>\n",
       "<tr><th>ID</th><th>YARN Application ID</th><th>Kind</th><th>State</th><th>Spark UI</th><th>Driver log</th><th>User</th><th>Current session?</th></tr><tr><td>0</td><td>application_1692341408275_0002</td><td>pyspark</td><td>idle</td><td></td><td></td><td>None</td><td>✔</td></tr></table>"
      ],
      "text/plain": [
       "<IPython.core.display.HTML object>"
      ]
     },
     "metadata": {},
     "output_type": "display_data"
    },
    {
     "data": {
      "application/vnd.jupyter.widget-view+json": {
       "model_id": "1c9f7e614d9b4248ae075d48f08f49c5",
       "version_major": 2,
       "version_minor": 0
      },
      "text/plain": [
       "FloatProgress(value=0.0, bar_style='info', description='Progress:', layout=Layout(height='25px', width='50%'),…"
      ]
     },
     "metadata": {},
     "output_type": "display_data"
    },
    {
     "name": "stdout",
     "output_type": "stream",
     "text": [
      "SparkSession available as 'spark'.\n"
     ]
    },
    {
     "data": {
      "application/vnd.jupyter.widget-view+json": {
       "model_id": "0fee43aa958e4179b4c2b2c4b00cc370",
       "version_major": 2,
       "version_minor": 0
      },
      "text/plain": [
       "FloatProgress(value=0.0, bar_style='info', description='Progress:', layout=Layout(height='25px', width='50%'),…"
      ]
     },
     "metadata": {},
     "output_type": "display_data"
    }
   ],
   "source": [
    "from pyspark.sql import SparkSession"
   ]
  },
  {
   "cell_type": "code",
   "execution_count": 5,
   "id": "37db4422-49e2-4f25-bce3-26d1088fc97f",
   "metadata": {
    "tags": []
   },
   "outputs": [
    {
     "data": {
      "application/vnd.jupyter.widget-view+json": {
       "model_id": "0fbd58fe92b94a2ca9641221b6a9d136",
       "version_major": 2,
       "version_minor": 0
      },
      "text/plain": [
       "FloatProgress(value=0.0, bar_style='info', description='Progress:', layout=Layout(height='25px', width='50%'),…"
      ]
     },
     "metadata": {},
     "output_type": "display_data"
    }
   ],
   "source": [
    "df = spark.read.parquet(r\"s3://aws-a9006-glbl-00-0-rol-shrd-shr-sandboxadmin01-ml-pocs/RO/output/pulp_models/HUMIRA_DERM=0.1,ALLCAPS_1=0.9/lp_matrix_df.parquet\")"
   ]
  },
  {
   "cell_type": "code",
   "execution_count": 6,
   "id": "f7290661-25e0-4500-9dcd-54b781423307",
   "metadata": {
    "tags": []
   },
   "outputs": [
    {
     "data": {
      "application/vnd.jupyter.widget-view+json": {
       "model_id": "ca009c0350a44cfd8358f89799ee593a",
       "version_major": 2,
       "version_minor": 0
      },
      "text/plain": [
       "FloatProgress(value=0.0, bar_style='info', description='Progress:', layout=Layout(height='25px', width='50%'),…"
      ]
     },
     "metadata": {},
     "output_type": "display_data"
    },
    {
     "name": "stdout",
     "output_type": "stream",
     "text": [
      "+-----------+------------+------------------+---------+---------+---------------------+-------------------+----------------+-----------------+\n",
      "|customer_id|geography_id|combination_number|segment_1|channel_1|channel_2_HUMIRA_DERM|channel_2_ALLCAPS_1|nbrx            |__index_level_0__|\n",
      "+-----------+------------+------------------+---------+---------+---------------------+-------------------+----------------+-----------------+\n",
      "|profsk_1   |geo_1       |0                 |Low-poor |0        |0                    |0                  |0.0             |0                |\n",
      "|profsk_1   |geo_1       |1                 |Low-poor |0        |0                    |1                  |41.456298828125 |2                |\n",
      "|profsk_1   |geo_1       |2                 |Low-poor |0        |0                    |2                  |83.13623046875  |4                |\n",
      "|profsk_1   |geo_1       |3                 |Low-poor |0        |1                    |0                  |3.90234375      |6                |\n",
      "|profsk_1   |geo_1       |4                 |Low-poor |0        |1                    |1                  |45.358642578125 |8                |\n",
      "|profsk_1   |geo_1       |5                 |Low-poor |0        |1                    |2                  |87.03857421875  |10               |\n",
      "|profsk_1   |geo_1       |6                 |Low-poor |0        |2                    |0                  |7.7783203125    |12               |\n",
      "|profsk_1   |geo_1       |7                 |Low-poor |0        |2                    |1                  |49.234619140625 |14               |\n",
      "|profsk_1   |geo_1       |8                 |Low-poor |0        |2                    |2                  |90.91455078125  |16               |\n",
      "|profsk_1   |geo_1       |9                 |Low-poor |1        |0                    |0                  |0.0             |18               |\n",
      "|profsk_1   |geo_1       |10                |Low-poor |1        |0                    |1                  |20.1273193359375|21               |\n",
      "|profsk_1   |geo_1       |10                |Low-poor |1        |0                    |1                  |30.71630859375  |20               |\n",
      "|profsk_1   |geo_1       |11                |Low-poor |1        |0                    |2                  |61.910400390625 |23               |\n",
      "|profsk_1   |geo_1       |11                |Low-poor |1        |0                    |2                  |72.519775390625 |22               |\n",
      "|profsk_1   |geo_1       |12                |Low-poor |1        |1                    |0                  |3.140869140625  |24               |\n",
      "|profsk_1   |geo_1       |12                |Low-poor |1        |1                    |0                  |3.513916015625  |25               |\n",
      "|profsk_1   |geo_1       |13                |Low-poor |1        |1                    |1                  |23.6412353515625|27               |\n",
      "|profsk_1   |geo_1       |13                |Low-poor |1        |1                    |1                  |33.857177734375 |26               |\n",
      "|profsk_1   |geo_1       |14                |Low-poor |1        |1                    |2                  |65.42431640625  |29               |\n",
      "|profsk_1   |geo_1       |14                |Low-poor |1        |1                    |2                  |75.66064453125  |28               |\n",
      "+-----------+------------+------------------+---------+---------+---------------------+-------------------+----------------+-----------------+\n",
      "only showing top 20 rows"
     ]
    }
   ],
   "source": [
    "df.show(truncate=False)"
   ]
  },
  {
   "cell_type": "code",
   "execution_count": null,
   "id": "4865ddd9-50d3-4a0b-8ef1-230d12df542f",
   "metadata": {},
   "outputs": [],
   "source": []
  }
 ],
 "metadata": {
  "kernelspec": {
   "display_name": "Sparkmagic (PySpark)",
   "language": "python",
   "name": "pysparkkernel"
  },
  "language_info": {
   "codemirror_mode": {
    "name": "python",
    "version": 3
   },
   "file_extension": ".py",
   "mimetype": "text/x-python",
   "name": "pyspark",
   "pygments_lexer": "python3"
  }
 },
 "nbformat": 4,
 "nbformat_minor": 5
}
